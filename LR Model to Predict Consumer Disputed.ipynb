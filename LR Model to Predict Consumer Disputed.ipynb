{
 "cells": [
  {
   "cell_type": "code",
   "execution_count": 1,
   "metadata": {},
   "outputs": [],
   "source": [
    "# 导入包\n",
    "\n",
    "import pandas as pd\n",
    "import numpy as np\n",
    "from sklearn.model_selection import train_test_split\n",
    "from sklearn.linear_model import LogisticRegression\n",
    "from sklearn.model_selection import cross_val_score "
   ]
  },
  {
   "cell_type": "code",
   "execution_count": 2,
   "metadata": {},
   "outputs": [
    {
     "data": {
      "text/html": [
       "<div>\n",
       "<style scoped>\n",
       "    .dataframe tbody tr th:only-of-type {\n",
       "        vertical-align: middle;\n",
       "    }\n",
       "\n",
       "    .dataframe tbody tr th {\n",
       "        vertical-align: top;\n",
       "    }\n",
       "\n",
       "    .dataframe thead th {\n",
       "        text-align: right;\n",
       "    }\n",
       "</style>\n",
       "<table border=\"1\" class=\"dataframe\">\n",
       "  <thead>\n",
       "    <tr style=\"text-align: right;\">\n",
       "      <th></th>\n",
       "      <th>Date received</th>\n",
       "      <th>Product</th>\n",
       "      <th>Sub-product</th>\n",
       "      <th>Issue</th>\n",
       "      <th>Sub-issue</th>\n",
       "      <th>Consumer complaint narrative</th>\n",
       "      <th>Company public response</th>\n",
       "      <th>Company</th>\n",
       "      <th>State</th>\n",
       "      <th>ZIP code</th>\n",
       "      <th>Tags</th>\n",
       "      <th>Consumer consent provided?</th>\n",
       "      <th>Submitted via</th>\n",
       "      <th>Date sent to company</th>\n",
       "      <th>Company response to consumer</th>\n",
       "      <th>Timely response?</th>\n",
       "      <th>Consumer disputed?</th>\n",
       "      <th>Complaint ID</th>\n",
       "    </tr>\n",
       "  </thead>\n",
       "  <tbody>\n",
       "    <tr>\n",
       "      <th>0</th>\n",
       "      <td>2014-03-12</td>\n",
       "      <td>Mortgage</td>\n",
       "      <td>Other mortgage</td>\n",
       "      <td>Loan modification,collection,foreclosure</td>\n",
       "      <td>NaN</td>\n",
       "      <td>NaN</td>\n",
       "      <td>NaN</td>\n",
       "      <td>M&amp;T BANK CORPORATION</td>\n",
       "      <td>MI</td>\n",
       "      <td>48382</td>\n",
       "      <td>NaN</td>\n",
       "      <td>NaN</td>\n",
       "      <td>Referral</td>\n",
       "      <td>2014-03-17</td>\n",
       "      <td>Closed with explanation</td>\n",
       "      <td>Yes</td>\n",
       "      <td>No</td>\n",
       "      <td>759217</td>\n",
       "    </tr>\n",
       "    <tr>\n",
       "      <th>1</th>\n",
       "      <td>2017-01-19</td>\n",
       "      <td>Student loan</td>\n",
       "      <td>Federal student loan servicing</td>\n",
       "      <td>Dealing with the lender or servicer</td>\n",
       "      <td>Received bad information about my loan</td>\n",
       "      <td>When my loan was switched over to Navient i wa...</td>\n",
       "      <td>NaN</td>\n",
       "      <td>Navient Solutions, LLC.</td>\n",
       "      <td>LA</td>\n",
       "      <td>NaN</td>\n",
       "      <td>NaN</td>\n",
       "      <td>Consent provided</td>\n",
       "      <td>Web</td>\n",
       "      <td>2017-01-19</td>\n",
       "      <td>Closed with explanation</td>\n",
       "      <td>Yes</td>\n",
       "      <td>No</td>\n",
       "      <td>2296496</td>\n",
       "    </tr>\n",
       "    <tr>\n",
       "      <th>2</th>\n",
       "      <td>2018-04-06</td>\n",
       "      <td>Credit card/Prepaid card</td>\n",
       "      <td>General-purpose credit card or charge card</td>\n",
       "      <td>Other features, terms, or problems</td>\n",
       "      <td>Other problem</td>\n",
       "      <td>I tried to sign up for a spending monitoring p...</td>\n",
       "      <td>NaN</td>\n",
       "      <td>CAPITAL ONE FINANCIAL CORPORATION</td>\n",
       "      <td>VA</td>\n",
       "      <td>NaN</td>\n",
       "      <td>Older American</td>\n",
       "      <td>Consent provided</td>\n",
       "      <td>Web</td>\n",
       "      <td>2018-04-06</td>\n",
       "      <td>Closed with explanation</td>\n",
       "      <td>Yes</td>\n",
       "      <td>NaN</td>\n",
       "      <td>2866101</td>\n",
       "    </tr>\n",
       "    <tr>\n",
       "      <th>3</th>\n",
       "      <td>2014-06-08</td>\n",
       "      <td>Credit card/Prepaid card</td>\n",
       "      <td>Credit card</td>\n",
       "      <td>Bankruptcy</td>\n",
       "      <td>NaN</td>\n",
       "      <td>NaN</td>\n",
       "      <td>NaN</td>\n",
       "      <td>AMERICAN EXPRESS COMPANY</td>\n",
       "      <td>ID</td>\n",
       "      <td>83854</td>\n",
       "      <td>Older American</td>\n",
       "      <td>NaN</td>\n",
       "      <td>Web</td>\n",
       "      <td>2014-06-10</td>\n",
       "      <td>Closed with explanation</td>\n",
       "      <td>Yes</td>\n",
       "      <td>Yes</td>\n",
       "      <td>885638</td>\n",
       "    </tr>\n",
       "    <tr>\n",
       "      <th>4</th>\n",
       "      <td>2014-09-13</td>\n",
       "      <td>Debt collection</td>\n",
       "      <td>Credit card</td>\n",
       "      <td>Communication tactics</td>\n",
       "      <td>Frequent or repeated calls</td>\n",
       "      <td>NaN</td>\n",
       "      <td>NaN</td>\n",
       "      <td>CITIBANK, N.A.</td>\n",
       "      <td>VA</td>\n",
       "      <td>23233</td>\n",
       "      <td>NaN</td>\n",
       "      <td>NaN</td>\n",
       "      <td>Web</td>\n",
       "      <td>2014-09-13</td>\n",
       "      <td>Closed with explanation</td>\n",
       "      <td>Yes</td>\n",
       "      <td>Yes</td>\n",
       "      <td>1027760</td>\n",
       "    </tr>\n",
       "  </tbody>\n",
       "</table>\n",
       "</div>"
      ],
      "text/plain": [
       "  Date received                   Product  \\\n",
       "0    2014-03-12                  Mortgage   \n",
       "1    2017-01-19              Student loan   \n",
       "2    2018-04-06  Credit card/Prepaid card   \n",
       "3    2014-06-08  Credit card/Prepaid card   \n",
       "4    2014-09-13           Debt collection   \n",
       "\n",
       "                                  Sub-product  \\\n",
       "0                              Other mortgage   \n",
       "1              Federal student loan servicing   \n",
       "2  General-purpose credit card or charge card   \n",
       "3                                 Credit card   \n",
       "4                                 Credit card   \n",
       "\n",
       "                                      Issue  \\\n",
       "0  Loan modification,collection,foreclosure   \n",
       "1       Dealing with the lender or servicer   \n",
       "2        Other features, terms, or problems   \n",
       "3                                Bankruptcy   \n",
       "4                     Communication tactics   \n",
       "\n",
       "                                Sub-issue  \\\n",
       "0                                     NaN   \n",
       "1  Received bad information about my loan   \n",
       "2                           Other problem   \n",
       "3                                     NaN   \n",
       "4              Frequent or repeated calls   \n",
       "\n",
       "                        Consumer complaint narrative Company public response  \\\n",
       "0                                                NaN                     NaN   \n",
       "1  When my loan was switched over to Navient i wa...                     NaN   \n",
       "2  I tried to sign up for a spending monitoring p...                     NaN   \n",
       "3                                                NaN                     NaN   \n",
       "4                                                NaN                     NaN   \n",
       "\n",
       "                             Company State ZIP code            Tags  \\\n",
       "0               M&T BANK CORPORATION    MI    48382             NaN   \n",
       "1            Navient Solutions, LLC.    LA      NaN             NaN   \n",
       "2  CAPITAL ONE FINANCIAL CORPORATION    VA      NaN  Older American   \n",
       "3           AMERICAN EXPRESS COMPANY    ID    83854  Older American   \n",
       "4                     CITIBANK, N.A.    VA    23233             NaN   \n",
       "\n",
       "  Consumer consent provided? Submitted via Date sent to company  \\\n",
       "0                        NaN      Referral           2014-03-17   \n",
       "1           Consent provided           Web           2017-01-19   \n",
       "2           Consent provided           Web           2018-04-06   \n",
       "3                        NaN           Web           2014-06-10   \n",
       "4                        NaN           Web           2014-09-13   \n",
       "\n",
       "  Company response to consumer Timely response? Consumer disputed?  \\\n",
       "0      Closed with explanation              Yes                 No   \n",
       "1      Closed with explanation              Yes                 No   \n",
       "2      Closed with explanation              Yes                NaN   \n",
       "3      Closed with explanation              Yes                Yes   \n",
       "4      Closed with explanation              Yes                Yes   \n",
       "\n",
       "   Complaint ID  \n",
       "0        759217  \n",
       "1       2296496  \n",
       "2       2866101  \n",
       "3        885638  \n",
       "4       1027760  "
      ]
     },
     "execution_count": 2,
     "metadata": {},
     "output_type": "execute_result"
    }
   ],
   "source": [
    "# 导入清洗后的数据集\n",
    "\n",
    "df_clean = pd.read_csv(\"data_cleaned.csv\")\n",
    "df_clean.head()"
   ]
  },
  {
   "cell_type": "code",
   "execution_count": 3,
   "metadata": {},
   "outputs": [],
   "source": [
    "# 使用逻辑回归预测‘Consumer disputed?’"
   ]
  },
  {
   "cell_type": "code",
   "execution_count": 4,
   "metadata": {},
   "outputs": [
    {
     "name": "stdout",
     "output_type": "stream",
     "text": [
      "<class 'pandas.core.frame.DataFrame'>\n",
      "Int64Index: 25739 entries, 6 to 279955\n",
      "Data columns (total 10 columns):\n",
      "Product                         25739 non-null object\n",
      "Issue                           25739 non-null object\n",
      "Company public response         25739 non-null object\n",
      "Company                         25739 non-null object\n",
      "State                           25739 non-null object\n",
      "Consumer consent provided?      25739 non-null object\n",
      "Submitted via                   25739 non-null object\n",
      "Company response to consumer    25739 non-null object\n",
      "Timely response?                25739 non-null object\n",
      "Consumer disputed?              25739 non-null object\n",
      "dtypes: object(10)\n",
      "memory usage: 2.2+ MB\n"
     ]
    }
   ],
   "source": [
    "## 数据预处理\n",
    "\n",
    "### 需要建立虚拟变量的列\n",
    "dummy_cols = ['Product','Issue','Company public response','Company','State','Consumer consent provided?',\n",
    "       'Submitted via','Company response to consumer','Timely response?','Consumer disputed?']\n",
    "\n",
    "### 删除数据集中不用与建模的列\n",
    "df_model_0 = df_clean.drop(['Date received',\n",
    "                            'Sub-product',\n",
    "                            'Sub-issue',\n",
    "                            'Consumer complaint narrative',\n",
    "                            'Complaint ID',\n",
    "                            'Date sent to company',\n",
    "                            'Tags',\n",
    "                            'ZIP code'],\n",
    "                             axis=1)\n",
    "\n",
    "### 预处理1——去除缺失值\n",
    "\n",
    "df_model_1 = df_model_0.dropna()\n",
    "df_model_1.info()"
   ]
  },
  {
   "cell_type": "code",
   "execution_count": 11,
   "metadata": {},
   "outputs": [
    {
     "name": "stdout",
     "output_type": "stream",
     "text": [
      "<class 'pandas.core.frame.DataFrame'>\n",
      "Int64Index: 25739 entries, 6 to 279955\n",
      "Data columns (total 11 columns):\n",
      "Product                                         25739 non-null int64\n",
      "Issue                                           25739 non-null int64\n",
      "Company public response                         25739 non-null int64\n",
      "Company                                         25739 non-null int64\n",
      "State                                           25739 non-null int64\n",
      "Company response to consumer                    25739 non-null int64\n",
      "Timely response?_Yes                            25739 non-null uint8\n",
      "Consumer disputed?_Yes                          25739 non-null uint8\n",
      "Consumer consent provided?_Consent provided     25739 non-null uint8\n",
      "Consumer consent provided?_Consent withdrawn    25739 non-null uint8\n",
      "Consumer consent provided?_Other                25739 non-null uint8\n",
      "dtypes: int64(6), uint8(5)\n",
      "memory usage: 1.5 MB\n"
     ]
    },
    {
     "name": "stderr",
     "output_type": "stream",
     "text": [
      "/anaconda3/lib/python3.7/site-packages/ipykernel_launcher.py:9: SettingWithCopyWarning: \n",
      "A value is trying to be set on a copy of a slice from a DataFrame.\n",
      "Try using .loc[row_indexer,col_indexer] = value instead\n",
      "\n",
      "See the caveats in the documentation: http://pandas.pydata.org/pandas-docs/stable/indexing.html#indexing-view-versus-copy\n",
      "  if __name__ == '__main__':\n"
     ]
    },
    {
     "data": {
      "text/plain": [
       "Index(['Product', 'Issue', 'Company public response', 'Company', 'State',\n",
       "       'Company response to consumer', 'Timely response?_Yes',\n",
       "       'Consumer disputed?_Yes', 'Consumer consent provided?_Consent provided',\n",
       "       'Consumer consent provided?_Consent withdrawn',\n",
       "       'Consumer consent provided?_Other'],\n",
       "      dtype='object')"
      ]
     },
     "execution_count": 11,
     "metadata": {},
     "output_type": "execute_result"
    }
   ],
   "source": [
    "### 预处理2—— 对分类变量创建虚拟变量\n",
    "\n",
    "#### 对于建模分类变量，采取两种方法处理：\n",
    "#### 类别变量或者二元变量，采取pd.get_dummies()转换为虚拟变量\n",
    "\n",
    "dummy_cols = ['Submitted via','Timely response?','Consumer disputed?','Consumer consent provided?']\n",
    "\n",
    "for col in dummy_cols:\n",
    "    df_model_1[col] = df_model_1[col].astype('category')### object——>category\n",
    "    \n",
    "df_model = pd.get_dummies(df_model_1,columns=dummy_cols,drop_first=True)\n",
    "\n",
    "#### 标称属性，即分类等级较多的变量，采取pd.factorize()将每个分类等级映射为唯一的数字表示\n",
    "\n",
    "df_model['Product'] = pd.factorize(df_model['Product'])[0]\n",
    "df_model['Issue'] = pd.factorize(df_model['Issue'])[0]\n",
    "df_model['Company public response'] = pd.factorize(df_model['Company public response'])[0]\n",
    "df_model['Company'] = pd.factorize(df_model['Company'])[0]\n",
    "df_model['State'] = pd.factorize(df_model['State'])[0]\n",
    "#df_model['ZIP code'] = pd.factorize(df_model['ZIP code'])[0]\n",
    "df_model['Company response to consumer'] = pd.factorize(df_model['Company response to consumer'])[0]\n",
    "\n",
    "df_model.info()\n",
    "df_model.columns"
   ]
  },
  {
   "cell_type": "code",
   "execution_count": 12,
   "metadata": {},
   "outputs": [],
   "source": [
    "## 逻辑回归建模\n",
    "cols = [i for i in df_model.columns if i != 'Consumer disputed?_Yes']\n",
    "\n",
    "X = df_model[cols]\n",
    "y = df_model['Consumer disputed?_Yes']\n",
    "\n",
    "lr_model = LogisticRegression() "
   ]
  },
  {
   "cell_type": "code",
   "execution_count": 13,
   "metadata": {},
   "outputs": [
    {
     "data": {
      "text/plain": [
       "LogisticRegression(C=1.0, class_weight=None, dual=False, fit_intercept=True,\n",
       "          intercept_scaling=1, max_iter=100, multi_class='ovr', n_jobs=1,\n",
       "          penalty='l2', random_state=None, solver='liblinear', tol=0.0001,\n",
       "          verbose=0, warm_start=False)"
      ]
     },
     "execution_count": 13,
     "metadata": {},
     "output_type": "execute_result"
    }
   ],
   "source": [
    "## 模型训练\n",
    "\n",
    "lr_model.fit(X,y)"
   ]
  },
  {
   "cell_type": "code",
   "execution_count": 14,
   "metadata": {},
   "outputs": [
    {
     "data": {
      "text/plain": [
       "0.828353859901317"
      ]
     },
     "execution_count": 14,
     "metadata": {},
     "output_type": "execute_result"
    }
   ],
   "source": [
    "## 模型评估\n",
    "\n",
    "lr_model.score(X,y)"
   ]
  },
  {
   "cell_type": "code",
   "execution_count": 15,
   "metadata": {},
   "outputs": [
    {
     "name": "stdout",
     "output_type": "stream",
     "text": [
      "0.8325563325563325\n"
     ]
    },
    {
     "data": {
      "text/plain": [
       "1.0"
      ]
     },
     "execution_count": 15,
     "metadata": {},
     "output_type": "execute_result"
    }
   ],
   "source": [
    "## 模型验证——简单验证\n",
    "\n",
    "### 将数据分为训练集和测试集\n",
    "X_train,X_test,y_train,y_test = train_test_split(X,y,test_size=0.2)\n",
    "### 使用训练集训练模型\n",
    "lr_model.fit(X_train,y_train)\n",
    "### 模型评分\n",
    "print(lr_model.score(X_test,y_test)) \n",
    "### 模型预测\n",
    "predict_test = lr_model.predict(X_test)\n",
    "### 计算模型分类准确率\n",
    "predict_results =np.in1d(predict_test,y_test.values)\n",
    "sum(predict_results)/predict_results.size"
   ]
  },
  {
   "cell_type": "code",
   "execution_count": 16,
   "metadata": {},
   "outputs": [
    {
     "name": "stdout",
     "output_type": "stream",
     "text": [
      "0.828353879563657\n"
     ]
    }
   ],
   "source": [
    "## 模型验证——k折交叉验证\n",
    "print(np.mean(cross_val_score(lr_model,X,y,cv=10)))"
   ]
  }
 ],
 "metadata": {
  "kernelspec": {
   "display_name": "Python 3",
   "language": "python",
   "name": "python3"
  },
  "language_info": {
   "codemirror_mode": {
    "name": "ipython",
    "version": 3
   },
   "file_extension": ".py",
   "mimetype": "text/x-python",
   "name": "python",
   "nbconvert_exporter": "python",
   "pygments_lexer": "ipython3",
   "version": "3.7.0"
  }
 },
 "nbformat": 4,
 "nbformat_minor": 2
}
