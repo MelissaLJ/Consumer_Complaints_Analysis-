{
  "nbformat": 4,
  "nbformat_minor": 0,
  "metadata": {
    "colab": {
      "name": "homework_chapter_2.ipynb",
      "provenance": [],
      "collapsed_sections": [],
      "authorship_tag": "ABX9TyPbNoBztgx5dFvBCBw0rwxf",
      "include_colab_link": true
    },
    "kernelspec": {
      "name": "python3",
      "display_name": "Python 3"
    },
    "language_info": {
      "name": "python"
    }
  },
  "cells": [
    {
      "cell_type": "markdown",
      "metadata": {
        "id": "view-in-github",
        "colab_type": "text"
      },
      "source": [
        "<a href=\"https://colab.research.google.com/github/MelissaLJ/Consumer_Complaints_Analysis-/blob/master/homework_chapter_2.ipynb\" target=\"_parent\"><img src=\"https://colab.research.google.com/assets/colab-badge.svg\" alt=\"Open In Colab\"/></a>"
      ]
    },
    {
      "cell_type": "code",
      "metadata": {
        "colab": {
          "base_uri": "https://localhost:8080/"
        },
        "id": "fACly8Dj6Xph",
        "outputId": "ab86f7f3-949b-499d-cf17-1b54b20206a3"
      },
      "source": [
        "pip install cython\n"
      ],
      "execution_count": 1,
      "outputs": [
        {
          "output_type": "stream",
          "text": [
            "Requirement already satisfied: cython in /usr/local/lib/python3.7/dist-packages (0.29.22)\n"
          ],
          "name": "stdout"
        }
      ]
    },
    {
      "cell_type": "code",
      "metadata": {
        "id": "txQhcgJnYKeU"
      },
      "source": [
        "%load_ext Cython"
      ],
      "execution_count": 2,
      "outputs": []
    },
    {
      "cell_type": "code",
      "metadata": {
        "id": "XNzRdhFxG2Jv"
      },
      "source": [
        "import numpy as np\n",
        "import pandas as pd\n",
        "import time"
      ],
      "execution_count": 3,
      "outputs": []
    },
    {
      "cell_type": "code",
      "metadata": {
        "id": "B_g4elUpxDUO"
      },
      "source": [
        "# 函数1\n",
        "def target_mean_v1(data,y,x):\n",
        "  result = np.zeros(data.shape[0])\n",
        "  for i in range(data.shape[0]):\n",
        "    groupby_result = data[data.index != i].groupby([x],as_index=False).agg(['mean','count'])\n",
        "    result[i] = groupby_result.loc[groupby_result.index == data.loc[i,x],(y,'mean')]"
      ],
      "execution_count": 4,
      "outputs": []
    },
    {
      "cell_type": "code",
      "metadata": {
        "id": "crI6KT_7MJPf"
      },
      "source": [
        "# 函数2\n",
        "def target_mean_v2(data,y,x):\n",
        "  result = np.zeros(data.shape[0])\n",
        "  value_dict = dict()\n",
        "  count_dict = dict()\n",
        "  for i in range(data.shape[0]):\n",
        "    if data.loc[i,x] not in value_dict.keys():\n",
        "      value_dict[data.loc[i,x]] = data.loc[i,y]\n",
        "      count_dict[data.loc[i,x]] = 1\n",
        "    else:\n",
        "      value_dict[data.loc[i,x]] += data.loc[i,y]\n",
        "      count_dict[data.loc[i,x]] += 1\n",
        "  for i in range(data.shape[0]):\n",
        "      result[i] = (value_dict[data.loc[i, x]] - data.loc[i, y]) / (count_dict[data.loc[i,x]] - 1)\n",
        "  return result    "
      ],
      "execution_count": 5,
      "outputs": []
    },
    {
      "cell_type": "code",
      "metadata": {
        "id": "hd9a91eaPWkn"
      },
      "source": [
        "# 函数3\n",
        "%%cython\n",
        "import numpy as np\n",
        "cimport numpy as np\n",
        "\n",
        "cpdef target_mean_v3(data,y_name,x_name):\n",
        "  cdef long nrows = data.shape[0]\n",
        "  cdef np.ndarray[double] result = np.asfortranarray(np.zeros(nrows), dtype=np.float64)\n",
        "  cdef np.ndarray[double] y = np.asfortranarray(data[y_name], dtype=np.float64)\n",
        "  cdef np.ndarray[double] x = np.asfortranarray(data[x_name], dtype=np.float64)\n",
        "  target_mean_v3_func(result,y,x,nrows)\n",
        "  return result\n",
        "\n",
        "cdef target_mean_v3_func(double[:] result, double[:] y, double[:] x, const long nrows):\n",
        "  cdef dict value_dict = dict()\n",
        "  cdef dict count_dict = dict()\n",
        "  cdef long i=0\n",
        "  for i in range(nrows):\n",
        "    if x[i] not in value_dict.keys():\n",
        "      value_dict[x[i]] = y[i]\n",
        "      count_dict[x[i]] = 1\n",
        "    else:\n",
        "      value_dict[x[i]] += y[i]\n",
        "      count_dict[x[i]] += 1\n",
        "  for i in range(nrows):\n",
        "    result[i] = (value_dict[x[i]] - y[i]) / (count_dict[x[i]] - 1)\n",
        "  return result\n",
        "  "
      ],
      "execution_count": 6,
      "outputs": []
    },
    {
      "cell_type": "code",
      "metadata": {
        "id": "l46bNTX0wnra"
      },
      "source": [
        "# 函数4\n",
        "%%cython --cplus \n",
        "from libcpp.unordered_map cimport unordered_map \n",
        "import numpy as np\n",
        "cimport numpy as np\n",
        "\n",
        "\n",
        "cpdef target_mean_v4(data,y_name,x_name):\n",
        "  cdef long nrows = data.shape[0]\n",
        "  cdef np.ndarray[double] result = np.asfortranarray(np.zeros(nrows), dtype=np.float)\n",
        "  cdef np.ndarray[double] y = np.asfortranarray(data[y_name], dtype=np.float)\n",
        "  cdef np.ndarray[long] x = np.asfortranarray(data[x_name], dtype=np.int)\n",
        "  target_mean_v4_func(result,y,x,nrows)\n",
        "  return result\n",
        "\n",
        "cdef target_mean_v4_func(double[:] result, double[:] y, long[:] x, const long nrows):\n",
        "  cdef unordered_map[long, double] value_map \n",
        "  cdef unordered_map[long, double] count_map \n",
        "  cdef long i=0\n",
        "  for i from 0 <= i < nrows by 1:\n",
        "    if not value_map.count(x[i]):\n",
        "      value_map[x[i]] = y[i]\n",
        "      count_map[x[i]] = 1\n",
        "    else:\n",
        "      value_map[x[i]] += y[i]\n",
        "      count_map[x[i]] += 1\n",
        "  for i from 0 <= i < nrows by 1:\n",
        "    result[i] = (value_map[x[i]] - y[i]) / (count_map[x[i]] - 1)\n",
        "  return result"
      ],
      "execution_count": 7,
      "outputs": []
    },
    {
      "cell_type": "code",
      "metadata": {
        "id": "cyU9ejCQ8nhL"
      },
      "source": [
        "# 函数5\n",
        "%%cython --cplus \n",
        "from libcpp.unordered_map cimport unordered_map \n",
        "import numpy as np\n",
        "cimport numpy as np\n",
        "\n",
        "\n",
        "cpdef target_mean_v5(data,y_name,x_name):\n",
        "  cdef long nrows = data.shape[0]\n",
        "  cdef np.ndarray[double] result = np.asfortranarray(np.zeros(nrows), dtype=np.float)\n",
        "  cdef np.ndarray[double] y = np.asfortranarray(data[y_name], dtype=np.float)\n",
        "  cdef np.ndarray[long] x = np.asfortranarray(data[x_name], dtype=np.int)\n",
        "  target_mean_v5_func(result,y,x,nrows)\n",
        "  return result\n",
        "\n",
        "cdef target_mean_v5_func(double[:] result, double[:] y, long[:] x, const long nrows):\n",
        "  cdef unordered_map[long, double] value_map \n",
        "  cdef unordered_map[long, double] count_map \n",
        "  cdef:\n",
        "    unordered_map[long, double].iterator end = value_map.end()\n",
        "  for i from 0 <= i < nrows by 1:\n",
        "    if value_map.find(x[i]) == end:\n",
        "      value_map[x[i]] = y[i]\n",
        "      count_map[x[i]] = 1\n",
        "    else:\n",
        "      value_map[x[i]] += y[i]\n",
        "      count_map[x[i]] += 1\n",
        "  for i from 0 <= i < nrows by 1:\n",
        "    result[i] = (value_map[x[i]] - y[i]) / (count_map[x[i]] - 1)\n",
        "  return result"
      ],
      "execution_count": 8,
      "outputs": []
    },
    {
      "cell_type": "code",
      "metadata": {
        "colab": {
          "base_uri": "https://localhost:8080/"
        },
        "id": "DZR7uuyYJ4lC",
        "outputId": "4e38b736-34c7-453c-a86d-0b2c6e29b0e4"
      },
      "source": [
        "def main():\n",
        "    y = np.random.randint(2, size=(5000, 1))\n",
        "    x = np.random.randint(10, size=(5000, 1))\n",
        "    data = pd.DataFrame(np.concatenate([y, x], axis=1), columns=['y', 'x'])\n",
        "\n",
        "    start_1 = time.time()\n",
        "    result_1 = target_mean_v1(data, 'y', 'x') \n",
        "    end_1 = time.time()\n",
        "    print('The runtime for the 1st function is',end_1 - start_1)\n",
        "\n",
        "    start_2 = time.time()\n",
        "    result_2 = target_mean_v2(data, 'y', 'x') # \n",
        "    end_2 = time.time()\n",
        "    print('The runtime for the 2nd function is',end_2 - start_2)\n",
        "\n",
        "    start_3 = time.time()\n",
        "    result_3 = target_mean_v3(data, 'y', 'x') # \n",
        "    end_3 = time.time()\n",
        "    print('The runtime for the 3rd function is',end_3 - start_3)\n",
        "\n",
        "    start_4 = time.time()\n",
        "    result_4 = target_mean_v4(data, 'y', 'x')\n",
        "    end_4 = time.time()\n",
        "    print('The runtime for the 4th function is',end_4 - start_4)\n",
        "\n",
        "    start_5 = time.time()\n",
        "    result_5 = target_mean_v5(data, 'y', 'x')\n",
        "    end_5 = time.time()\n",
        "    print('The runtime for the 5th function is',end_5 - start_5)\n",
        "\n",
        "if __name__ == '__main__':\n",
        "    main()"
      ],
      "execution_count": 9,
      "outputs": [
        {
          "output_type": "stream",
          "text": [
            "The runtime for the 1st function is 27.321754455566406\n",
            "The runtime for the 2nd function is 0.3227241039276123\n",
            "The runtime for the 3rd function is 0.0028243064880371094\n",
            "The runtime for the 4th function is 0.0007383823394775391\n",
            "The runtime for the 5th function is 0.0006363391876220703\n"
          ],
          "name": "stdout"
        }
      ]
    }
  ]
}